coll_dict = dict()
sentence = input("Write a sentence :")
for i in sentence:
    coll_dict[i] = sentence.count(i)


coll_dict
