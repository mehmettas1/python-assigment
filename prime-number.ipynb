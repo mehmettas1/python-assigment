n = int(input("Enter a positive int number to check if it is a Prime number."))
counter = 0 
for i in range(1, n+1):
    if n % i == 0:
        counter += 1

if (n == 0) or (n == 1) or (counter >=3):
    print(n, " is not a prime number")

else:
    print(n, " is a prime number")
