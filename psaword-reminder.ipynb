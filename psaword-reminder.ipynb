Kullanıcı_name = input("Lütfen İsim giriniz:")


Database = {"Kullanıcı Adı:" : "mehmet"}

if Kullanıcı_name == Database.get("Kullanıcı Adı:"):
    print(f"Hello, {Kullanıcı_name}! The password is:W@12")
else:
    print(f"Hello {Kullanıcı_name}! See you later.")
