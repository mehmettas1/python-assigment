Write a Python code on any IDE, push it up to your GitHub repository and submit GitHub page address link in addition to your code (answer) as a plain text.

Task : Create a list consisting of Fibonacci numbers from 1 to 55 using control flow statements and range() function.

The desired output is like this:

fibonacci → [1, 1, 2, 3, 5, 8, 13, 21, 34, 55]




fibonacci = []
sum = 0
for i in range(10) :
    if i == 0 :
        fibonacci.append(1)
    
    elif i == 1 :
        fibonacci.append(1)
    
    else:
        fibonacci.append((fibonacci[i-1]+fibonacci[i-2]))

        
    
print(fibonacci)
