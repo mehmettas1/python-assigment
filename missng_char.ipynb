Given a non-empty string and an int n, return a new string where the character at index n has been removed. The value of n will be a valid index of a character in the original string (i.e. n will be in the range 0....len(str)-1 inclusive). For example:

Test Result print(missing_char('kitchen', 1)) ktchen print(missing_char('kitchen', 0)) itchen print(missing_char('kitchen', 4)) kitcen

def missing_char(word, n):
    char_list = []
    for i in word:
        char_list.append(i)
    char_list.pop(n)
    mis_char = ""
    for i in char_list:
        mis_char += i

    return mis_char

print(missing_char('kitchen', 4))
