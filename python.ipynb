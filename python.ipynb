  GNU nano 5.9                                                                                                     python.txt

















passw = {'Joseph':'W@12'}

name = input("Write your name : ")

if name == 'Joseph':
    print("Hello, {}! The password is : {}".format(name, passw[name]))
else:
    print("Hello, {}! See you later.".format(name))
asdasd


































                                                

